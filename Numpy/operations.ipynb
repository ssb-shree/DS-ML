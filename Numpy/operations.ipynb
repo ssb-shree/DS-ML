{
  "nbformat": 4,
  "nbformat_minor": 0,
  "metadata": {
    "colab": {
      "provenance": [],
      "authorship_tag": "ABX9TyPnEBAsomJpn8CQg4F9wby8",
      "include_colab_link": true
    },
    "kernelspec": {
      "name": "python3",
      "display_name": "Python 3"
    },
    "language_info": {
      "name": "python"
    }
  },
  "cells": [
    {
      "cell_type": "markdown",
      "metadata": {
        "id": "view-in-github",
        "colab_type": "text"
      },
      "source": [
        "<a href=\"https://colab.research.google.com/github/ssb-shree/DS-ML/blob/main/Numpy/operations.ipynb\" target=\"_parent\"><img src=\"https://colab.research.google.com/assets/colab-badge.svg\" alt=\"Open In Colab\"/></a>"
      ]
    },
    {
      "cell_type": "markdown",
      "source": [
        "# Arithmetic Operations on Numpy Array\n",
        "\n",
        "\n",
        "\n",
        "---\n",
        "\n"
      ],
      "metadata": {
        "id": "lTC3X-d47BU1"
      }
    },
    {
      "cell_type": "code",
      "source": [
        "import numpy as np"
      ],
      "metadata": {
        "id": "dBCMhELa7H1B"
      },
      "execution_count": 3,
      "outputs": []
    },
    {
      "cell_type": "code",
      "source": [
        "a1 = np.arange(1,6)\n",
        "a2 = np.arange(6,11)"
      ],
      "metadata": {
        "id": "ZV2dX_fY-WSr"
      },
      "execution_count": 4,
      "outputs": []
    },
    {
      "cell_type": "code",
      "source": [
        "a1+a2\n",
        "a1-a2\n",
        "a1/a2\n",
        "a1//a2 # floor division\n",
        "a1*a2\n",
        "a1**a2 # expo"
      ],
      "metadata": {
        "colab": {
          "base_uri": "https://localhost:8080/"
        },
        "id": "LmtWubSZ-gfA",
        "outputId": "faa17850-770c-4d23-e02b-916ac86166f4"
      },
      "execution_count": 5,
      "outputs": [
        {
          "output_type": "execute_result",
          "data": {
            "text/plain": [
              "array([      1,     128,    6561,  262144, 9765625])"
            ]
          },
          "metadata": {},
          "execution_count": 5
        }
      ]
    },
    {
      "cell_type": "markdown",
      "source": [
        "# Broadcating"
      ],
      "metadata": {
        "id": "iO_lT3Pg_YXq"
      }
    },
    {
      "cell_type": "code",
      "source": [
        "arr = np.arange(0,6)\n",
        "arr + 10"
      ],
      "metadata": {
        "colab": {
          "base_uri": "https://localhost:8080/"
        },
        "id": "nQFvIqVP_ci5",
        "outputId": "61a052f5-b613-446e-af0f-5203d813fed7"
      },
      "execution_count": 6,
      "outputs": [
        {
          "output_type": "execute_result",
          "data": {
            "text/plain": [
              "array([10, 11, 12, 13, 14, 15])"
            ]
          },
          "metadata": {},
          "execution_count": 6
        }
      ]
    },
    {
      "cell_type": "markdown",
      "source": [
        "# Deep n Shallow Copy\n",
        "\n",
        "\n",
        "---\n",
        "**shallow** -> og array wont be updated\n",
        "\n",
        "**deep** -> og array will be updated\n",
        "\n"
      ],
      "metadata": {
        "id": "ed4vH5q_A0QM"
      }
    },
    {
      "cell_type": "code",
      "source": [
        "a = np.arange(1,11)\n",
        "a"
      ],
      "metadata": {
        "colab": {
          "base_uri": "https://localhost:8080/"
        },
        "id": "MbHowNQLA9aP",
        "outputId": "19cd7536-77f0-4c1f-c9fc-f170f9e7d118"
      },
      "execution_count": 7,
      "outputs": [
        {
          "output_type": "execute_result",
          "data": {
            "text/plain": [
              "array([ 1,  2,  3,  4,  5,  6,  7,  8,  9, 10])"
            ]
          },
          "metadata": {},
          "execution_count": 7
        }
      ]
    },
    {
      "cell_type": "code",
      "source": [
        "# shallow copy\n",
        "sliced = a[:5]\n",
        "sliced = sliced * 10\n",
        "sliced"
      ],
      "metadata": {
        "colab": {
          "base_uri": "https://localhost:8080/"
        },
        "id": "rkE6igZQBIG7",
        "outputId": "fbbfe71a-b5a8-496e-9a4c-aaeba5eff1a4"
      },
      "execution_count": 8,
      "outputs": [
        {
          "output_type": "execute_result",
          "data": {
            "text/plain": [
              "array([10, 20, 30, 40, 50])"
            ]
          },
          "metadata": {},
          "execution_count": 8
        }
      ]
    },
    {
      "cell_type": "code",
      "source": [
        "# deep copy\n",
        "a = np.arange(1,6)\n",
        "b = a # use a.copy if u dont want deep copy\n",
        "\n",
        "b[0] =77\n",
        "a"
      ],
      "metadata": {
        "colab": {
          "base_uri": "https://localhost:8080/"
        },
        "id": "7dm5IQzJBLwN",
        "outputId": "375524fc-34a1-4a69-8c17-93cfa9cb719d"
      },
      "execution_count": 9,
      "outputs": [
        {
          "output_type": "execute_result",
          "data": {
            "text/plain": [
              "array([77,  2,  3,  4,  5])"
            ]
          },
          "metadata": {},
          "execution_count": 9
        }
      ]
    },
    {
      "cell_type": "markdown",
      "source": [
        "# Matrix Operation"
      ],
      "metadata": {
        "id": "-Lemt1GQCldC"
      }
    },
    {
      "cell_type": "code",
      "source": [
        "matA = np.arange(1,5).reshape(2,2)\n",
        "matB = np.arange(5,9).reshape(2,2)"
      ],
      "metadata": {
        "id": "Y2jcWNFtCnhf"
      },
      "execution_count": 10,
      "outputs": []
    },
    {
      "cell_type": "code",
      "source": [
        "matA @ matB == np.dot(matA, matB) # matrix multiplication"
      ],
      "metadata": {
        "colab": {
          "base_uri": "https://localhost:8080/"
        },
        "id": "jFtbaRy-yx_1",
        "outputId": "a6b4f925-0664-4716-fd5d-11a25119c5f5"
      },
      "execution_count": 11,
      "outputs": [
        {
          "output_type": "execute_result",
          "data": {
            "text/plain": [
              "array([[ True,  True],\n",
              "       [ True,  True]])"
            ]
          },
          "metadata": {},
          "execution_count": 11
        }
      ]
    },
    {
      "cell_type": "code",
      "source": [
        "matA.T # transpose"
      ],
      "metadata": {
        "colab": {
          "base_uri": "https://localhost:8080/"
        },
        "id": "5dAfrIQUy3EY",
        "outputId": "53ec98f7-2aaf-44d5-fe76-66c9bcd284be"
      },
      "execution_count": 12,
      "outputs": [
        {
          "output_type": "execute_result",
          "data": {
            "text/plain": [
              "array([[1, 3],\n",
              "       [2, 4]])"
            ]
          },
          "metadata": {},
          "execution_count": 12
        }
      ]
    },
    {
      "cell_type": "markdown",
      "source": [
        "# Stacking Arrays\n",
        "\n",
        "\n",
        "---\n",
        "we can only stack vectors not arrays\n"
      ],
      "metadata": {
        "id": "aWfXe4s-YyFZ"
      }
    },
    {
      "cell_type": "code",
      "source": [
        "a = np.arange(1,3)\n",
        "b = np.arange(3,5)"
      ],
      "metadata": {
        "id": "KaqyjrD8Y6KY"
      },
      "execution_count": 13,
      "outputs": []
    },
    {
      "cell_type": "code",
      "source": [
        "np.vstack((a,b)) # makes matrix of 2 vectors"
      ],
      "metadata": {
        "colab": {
          "base_uri": "https://localhost:8080/"
        },
        "id": "HwN-0f8AZR5n",
        "outputId": "0d77f73f-04d3-46c9-8ba8-94213f350f96"
      },
      "execution_count": 16,
      "outputs": [
        {
          "output_type": "execute_result",
          "data": {
            "text/plain": [
              "array([[1, 2],\n",
              "       [3, 4]])"
            ]
          },
          "metadata": {},
          "execution_count": 16
        }
      ]
    },
    {
      "cell_type": "code",
      "source": [
        "np.hstack((a,b)) # gives a new vector by joining given vectors"
      ],
      "metadata": {
        "colab": {
          "base_uri": "https://localhost:8080/"
        },
        "id": "nfiMMDLiZTlh",
        "outputId": "404caa96-b989-4795-e07b-acd284322250"
      },
      "execution_count": 15,
      "outputs": [
        {
          "output_type": "execute_result",
          "data": {
            "text/plain": [
              "array([1, 2, 3, 4])"
            ]
          },
          "metadata": {},
          "execution_count": 15
        }
      ]
    },
    {
      "cell_type": "code",
      "source": [
        "np.column_stack((a,b)) # a gets a col, b gets a col"
      ],
      "metadata": {
        "id": "iMcyV9hzZVoz"
      },
      "execution_count": null,
      "outputs": []
    },
    {
      "cell_type": "markdown",
      "source": [
        "# Spilting Arrays\n",
        "\n",
        "\n",
        "---\n",
        "\n"
      ],
      "metadata": {
        "id": "cnjtqXuHZ-4i"
      }
    },
    {
      "cell_type": "code",
      "source": [
        "arr = np.arange(1, 17).reshape(4,4)\n",
        "arr"
      ],
      "metadata": {
        "colab": {
          "base_uri": "https://localhost:8080/"
        },
        "id": "49WAFkpcaFk0",
        "outputId": "5d9b4b38-6ebc-442e-f6c2-753e024aa1af"
      },
      "execution_count": 34,
      "outputs": [
        {
          "output_type": "execute_result",
          "data": {
            "text/plain": [
              "array([[ 1,  2,  3,  4],\n",
              "       [ 5,  6,  7,  8],\n",
              "       [ 9, 10, 11, 12],\n",
              "       [13, 14, 15, 16]])"
            ]
          },
          "metadata": {},
          "execution_count": 34
        }
      ]
    },
    {
      "cell_type": "code",
      "source": [
        "np.hsplit(arr,2)"
      ],
      "metadata": {
        "colab": {
          "base_uri": "https://localhost:8080/"
        },
        "id": "48stdAJ-aQ8A",
        "outputId": "5637d8bc-260b-45f4-d656-ccade200b7a1"
      },
      "execution_count": 36,
      "outputs": [
        {
          "output_type": "execute_result",
          "data": {
            "text/plain": [
              "[array([[ 1,  2],\n",
              "        [ 5,  6],\n",
              "        [ 9, 10],\n",
              "        [13, 14]]),\n",
              " array([[ 3,  4],\n",
              "        [ 7,  8],\n",
              "        [11, 12],\n",
              "        [15, 16]])]"
            ]
          },
          "metadata": {},
          "execution_count": 36
        }
      ]
    },
    {
      "cell_type": "code",
      "source": [
        "np.vsplit(arr,2)"
      ],
      "metadata": {
        "colab": {
          "base_uri": "https://localhost:8080/"
        },
        "id": "_Y5krBgCay-9",
        "outputId": "c3ac1d55-dc60-44cc-b570-d910ccba248d"
      },
      "execution_count": 37,
      "outputs": [
        {
          "output_type": "execute_result",
          "data": {
            "text/plain": [
              "[array([[1, 2, 3, 4],\n",
              "        [5, 6, 7, 8]]),\n",
              " array([[ 9, 10, 11, 12],\n",
              "        [13, 14, 15, 16]])]"
            ]
          },
          "metadata": {},
          "execution_count": 37
        }
      ]
    },
    {
      "cell_type": "code",
      "source": [],
      "metadata": {
        "id": "LCsyQLv9a1MA"
      },
      "execution_count": null,
      "outputs": []
    }
  ]
}