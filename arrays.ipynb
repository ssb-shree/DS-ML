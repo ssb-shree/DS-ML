{
  "nbformat": 4,
  "nbformat_minor": 0,
  "metadata": {
    "colab": {
      "provenance": [],
      "collapsed_sections": [
        "bMdEhDjnjkHE",
        "OYVj4AA6oIRz",
        "v27rK6LsoghC",
        "jWysCzpCvatx",
        "gT8R47KRwHH_"
      ],
      "authorship_tag": "ABX9TyNKsNkxywca0AwD6UFqqqk2",
      "include_colab_link": true
    },
    "kernelspec": {
      "name": "python3",
      "display_name": "Python 3"
    },
    "language_info": {
      "name": "python"
    }
  },
  "cells": [
    {
      "cell_type": "markdown",
      "metadata": {
        "id": "view-in-github",
        "colab_type": "text"
      },
      "source": [
        "<a href=\"https://colab.research.google.com/github/ssb-shree/DS-ML/blob/main/arrays.ipynb\" target=\"_parent\"><img src=\"https://colab.research.google.com/assets/colab-badge.svg\" alt=\"Open In Colab\"/></a>"
      ]
    },
    {
      "cell_type": "markdown",
      "source": [
        "# NumPy Arrays\n",
        "---\n",
        "**Python List** -> no type safety, slow n less memory efficient\n",
        "\n",
        "**Numpy array** -> type safe, fast n efficient, easy vector operations"
      ],
      "metadata": {
        "id": "RPp79wTRikLp"
      }
    },
    {
      "cell_type": "markdown",
      "source": [
        "# Creating a Numpy Array\n",
        "\n",
        "\n",
        "---"
      ],
      "metadata": {
        "id": "bMdEhDjnjkHE"
      }
    },
    {
      "cell_type": "code",
      "source": [
        "import numpy as np"
      ],
      "metadata": {
        "id": "W9yQmkbWj02q"
      },
      "execution_count": 2,
      "outputs": []
    },
    {
      "cell_type": "code",
      "source": [
        "array = np.array([1,2,3,4]) # turns list into array"
      ],
      "metadata": {
        "colab": {
          "base_uri": "https://localhost:8080/"
        },
        "id": "xloOVW-vkDtw",
        "outputId": "253fdea6-3e96-4f35-ffac-277940018ea6"
      },
      "execution_count": 8,
      "outputs": [
        {
          "output_type": "execute_result",
          "data": {
            "text/plain": [
              "array([1, 2, 3, 4])"
            ]
          },
          "metadata": {},
          "execution_count": 8
        }
      ]
    },
    {
      "cell_type": "code",
      "source": [
        "list = [[1,2],[3,4],[5,6]] # does not multi-di array\n",
        "print(list)\n",
        "array = np.array(list) # converts list into a multi di array\n",
        "print(array)"
      ],
      "metadata": {
        "colab": {
          "base_uri": "https://localhost:8080/"
        },
        "id": "nts56Jq4nDWZ",
        "outputId": "ec60ab37-5e80-4310-90a4-8bd1a40c9109"
      },
      "execution_count": 9,
      "outputs": [
        {
          "output_type": "stream",
          "name": "stdout",
          "text": [
            "[[1, 2], [3, 4], [5, 6]]\n",
            "[[1 2]\n",
            " [3 4]\n",
            " [5 6]]\n"
          ]
        }
      ]
    },
    {
      "cell_type": "markdown",
      "source": [
        "# Generating an Array\n",
        "\n",
        "\n",
        "---\n",
        "\n"
      ],
      "metadata": {
        "id": "OYVj4AA6oIRz"
      }
    },
    {
      "cell_type": "code",
      "source": [
        "np.arange(1, 11, 2) # creates an array from 1 to 11 with step count 2\n",
        "np.zeros((2,2)) # creates a array of zeros\n",
        "np.ones((2,2)) # creates a array of ones\n",
        "np.linspace(0,10,2) # create an evenly spaced array betn 2 numbers"
      ],
      "metadata": {
        "colab": {
          "base_uri": "https://localhost:8080/"
        },
        "id": "YtZW_xOgnczf",
        "outputId": "407bfe05-2e48-4012-a922-9e7bddf2cad2"
      },
      "execution_count": 10,
      "outputs": [
        {
          "output_type": "execute_result",
          "data": {
            "text/plain": [
              "array([1, 3, 5, 7, 9])"
            ]
          },
          "metadata": {},
          "execution_count": 10
        }
      ]
    },
    {
      "cell_type": "markdown",
      "source": [
        "# Generating a Random Array\n",
        "\n",
        "\n",
        "---\n",
        "\n"
      ],
      "metadata": {
        "id": "v27rK6LsoghC"
      }
    },
    {
      "cell_type": "code",
      "source": [
        "np.random.rand(10) # array of elements betn 0 n 1\n",
        "np.random.randn(10) # array of elements betn -3 n 3\n",
        "np.random.randint(1, 10, 10) # lowest, highest, no of elements"
      ],
      "metadata": {
        "colab": {
          "base_uri": "https://localhost:8080/"
        },
        "id": "SRX0f01LooAa",
        "outputId": "f98abc03-1b9b-454a-903e-3e4defe8faa1"
      },
      "execution_count": 12,
      "outputs": [
        {
          "output_type": "execute_result",
          "data": {
            "text/plain": [
              "array([7, 4, 1, 4, 7, 3, 8, 3, 2, 1])"
            ]
          },
          "metadata": {},
          "execution_count": 12
        }
      ]
    },
    {
      "cell_type": "markdown",
      "source": [],
      "metadata": {
        "id": "nxgoOsnYvXz9"
      }
    },
    {
      "cell_type": "markdown",
      "source": [
        "# Numpy Array Attributes\n",
        "\n",
        "\n",
        "---\n",
        "\n"
      ],
      "metadata": {
        "id": "jWysCzpCvatx"
      }
    },
    {
      "cell_type": "code",
      "source": [
        "arr = np.array([[1,2],[3,4]])\n",
        "arr.shape # (no of rows, no of cols)\n",
        "arr.size # no of elements in array\n",
        "arr.dtype # data type of array elements"
      ],
      "metadata": {
        "colab": {
          "base_uri": "https://localhost:8080/"
        },
        "id": "P117F_gLviCZ",
        "outputId": "518ce037-64f2-4204-be75-ebf83cc2423c"
      },
      "execution_count": 13,
      "outputs": [
        {
          "output_type": "execute_result",
          "data": {
            "text/plain": [
              "4"
            ]
          },
          "metadata": {},
          "execution_count": 13
        }
      ]
    },
    {
      "cell_type": "markdown",
      "source": [
        "# Numpy Array Methods\n",
        "\n",
        "\n",
        "---\n",
        "\n"
      ],
      "metadata": {
        "id": "gT8R47KRwHH_"
      }
    },
    {
      "cell_type": "code",
      "source": [
        "arr.min()\n",
        "arr.max()\n",
        "\n",
        "arr.sum() # adds all the element of array\n",
        "\n",
        "np.sum(arr, axis=0) # for summation of cols axis = 0 for rows exis =1\n",
        "\n",
        "arr.mean() # mean value of array\n",
        "arr.std() # standard deviation\n",
        "\n",
        "arr.argmax() # index of max element\n",
        "arr.argmin() # index of min element"
      ],
      "metadata": {
        "id": "DgCIRRPlwLNb"
      },
      "execution_count": null,
      "outputs": []
    },
    {
      "cell_type": "markdown",
      "source": [
        "# Reshaping and Resizing Nump Array\n",
        "\n",
        "\n",
        "---\n",
        "\n",
        "**Reshaping** is changing diemensions of an array\n",
        "\n",
        "**Resizing** is updating the var storing the array with the resized array"
      ],
      "metadata": {
        "id": "DvIFSw4AxVhN"
      }
    },
    {
      "cell_type": "code",
      "source": [
        "arr = np.arange(1,10) # creates an single-di vector\n",
        "arr"
      ],
      "metadata": {
        "colab": {
          "base_uri": "https://localhost:8080/"
        },
        "id": "9PUB8XkqxZ8u",
        "outputId": "dbd47757-1f75-45e3-9185-f88a36da03eb"
      },
      "execution_count": 17,
      "outputs": [
        {
          "output_type": "execute_result",
          "data": {
            "text/plain": [
              "array([1, 2, 3, 4, 5, 6, 7, 8, 9])"
            ]
          },
          "metadata": {},
          "execution_count": 17
        }
      ]
    },
    {
      "cell_type": "code",
      "source": [
        " arr = arr.reshape(3,3)\n",
        " arr"
      ],
      "metadata": {
        "colab": {
          "base_uri": "https://localhost:8080/"
        },
        "id": "i32b82SexvU8",
        "outputId": "150885e2-bac2-477f-e2e1-341619ea0f1b"
      },
      "execution_count": 18,
      "outputs": [
        {
          "output_type": "execute_result",
          "data": {
            "text/plain": [
              "array([[1, 2, 3],\n",
              "       [4, 5, 6],\n",
              "       [7, 8, 9]])"
            ]
          },
          "metadata": {},
          "execution_count": 18
        }
      ]
    }
  ]
}